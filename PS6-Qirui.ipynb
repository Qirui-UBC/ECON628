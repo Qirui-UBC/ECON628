{
 "cells": [
  {
   "cell_type": "code",
   "execution_count": 13,
   "metadata": {},
   "outputs": [
    {
     "data": {
      "text/plain": [
       "Plots.GRBackend()"
      ]
     },
     "execution_count": 13,
     "metadata": {},
     "output_type": "execute_result"
    }
   ],
   "source": [
    "using InstantiateFromURL\n",
    "activate_github(\"QuantEcon/QuantEconLecturePackages\", tag = \"v0.3.1\") # activate the QuantEcon environment\n",
    "using LinearAlgebra, Statistics, Compat, Plots\n",
    "gr(fmt=:png) "
   ]
  },
  {
   "cell_type": "markdown",
   "metadata": {},
   "source": [
    "### Exercise 1\n",
    "\n",
    "Explore the package [StaticArrays.jl](https://github.com/JuliaArrays/StaticArrays.jl)\n",
    "\n",
    "- Describe 2 abstract types and the hierarchy of 3 different concrete types  \n",
    "- Benchmark the calculation of some simple linear algebra with a static array compared to the following for a dense arrays for `N=3` and `N=15`  "
   ]
  },
  {
   "cell_type": "markdown",
   "metadata": {},
   "source": [
    "Part 1"
   ]
  },
  {
   "cell_type": "markdown",
   "metadata": {},
   "source": [
    "2 abstract types"
   ]
  },
  {
   "cell_type": "code",
   "execution_count": 2,
   "metadata": {},
   "outputs": [
    {
     "name": "stdout",
     "output_type": "stream",
     "text": [
      "AbstractFloat <: Real <: Number <: Any"
     ]
    },
    {
     "data": {
      "text/plain": [
       "4-element Array{Any,1}:\n",
       " BigFloat\n",
       " Float16 \n",
       " Float32 \n",
       " Float64 "
      ]
     },
     "execution_count": 2,
     "metadata": {},
     "output_type": "execute_result"
    }
   ],
   "source": [
    "using Base: show_supertypes\n",
    "using StaticArrays\n",
    "show_supertypes(AbstractFloat)\n",
    "subtypes(AbstractFloat)"
   ]
  },
  {
   "cell_type": "code",
   "execution_count": 3,
   "metadata": {},
   "outputs": [
    {
     "name": "stdout",
     "output_type": "stream",
     "text": [
      "Unsigned <: Integer <: Real <: Number <: Any"
     ]
    },
    {
     "data": {
      "text/plain": [
       "5-element Array{Any,1}:\n",
       " UInt128\n",
       " UInt16 \n",
       " UInt32 \n",
       " UInt64 \n",
       " UInt8  "
      ]
     },
     "execution_count": 3,
     "metadata": {},
     "output_type": "execute_result"
    }
   ],
   "source": [
    "show_supertypes(Unsigned)\n",
    "subtypes(Unsigned)"
   ]
  },
  {
   "cell_type": "markdown",
   "metadata": {},
   "source": [
    "AbstractFloat is a "
   ]
  },
  {
   "cell_type": "markdown",
   "metadata": {},
   "source": [
    "3 concrete types"
   ]
  },
  {
   "cell_type": "code",
   "execution_count": 4,
   "metadata": {},
   "outputs": [
    {
     "name": "stdout",
     "output_type": "stream",
     "text": [
      "Bool <: Integer <: Real <: Number <: Any"
     ]
    }
   ],
   "source": [
    "show_supertypes(Bool)"
   ]
  },
  {
   "cell_type": "code",
   "execution_count": 5,
   "metadata": {},
   "outputs": [
    {
     "name": "stdout",
     "output_type": "stream",
     "text": [
      "Float64 <: AbstractFloat <: Real <: Number <: Any"
     ]
    }
   ],
   "source": [
    "show_supertypes(Float64)"
   ]
  },
  {
   "cell_type": "code",
   "execution_count": 6,
   "metadata": {},
   "outputs": [
    {
     "name": "stdout",
     "output_type": "stream",
     "text": [
      "Char <: AbstractChar <: Any"
     ]
    }
   ],
   "source": [
    "show_supertypes(Char)"
   ]
  },
  {
   "cell_type": "markdown",
   "metadata": {},
   "source": [
    "Part 2"
   ]
  },
  {
   "cell_type": "code",
   "execution_count": 7,
   "metadata": {},
   "outputs": [
    {
     "name": "stdout",
     "output_type": "stream",
     "text": [
      "  68.927 ns (1 allocation: 112 bytes)\n",
      "  2.936 ns (0 allocations: 0 bytes)\n",
      "  546.428 ns (5 allocations: 1.98 KiB)\n",
      "  9.570 ns (0 allocations: 0 bytes)\n",
      "  129.050 ns (1 allocation: 208 bytes)\n",
      "  67.003 ns (0 allocations: 0 bytes)\n",
      "  5.133 μs (5 allocations: 9.88 KiB)\n",
      "  5.422 μs (6 allocations: 11.86 KiB)\n"
     ]
    }
   ],
   "source": [
    "using BenchmarkTools\n",
    "\n",
    "N = [3 15]\n",
    "for n in N\n",
    "    A_c = rand(n, n)\n",
    "    A_s = @SMatrix rand(n,n)\n",
    "    x_c = rand(n)\n",
    "    x_s = @SVector rand(n)\n",
    "    @btime $A_c * $x_c\n",
    "    @btime $A_s * $x_s\n",
    "    @btime inv($A_c)\n",
    "    @btime inv($A_s)\n",
    "end"
   ]
  },
  {
   "cell_type": "markdown",
   "metadata": {},
   "source": [
    "### Exercise 2\n",
    "\n",
    "A key step in the calculation of the Kalman Filter is calculation of the Kalman gain, as can be seen with the following example using dense matrices from [this lecture](kalman)\n",
    "\n",
    "Using what you learned from Exercise 1, benchmark this using Static Arrays"
   ]
  },
  {
   "cell_type": "code",
   "execution_count": 8,
   "metadata": {},
   "outputs": [
    {
     "name": "stdout",
     "output_type": "stream",
     "text": [
      "  654.705 ns (10 allocations: 1.94 KiB)\n",
      "  12.121 ns (0 allocations: 0 bytes)\n"
     ]
    },
    {
     "data": {
      "text/plain": [
       "2×2 SArray{Tuple{2,2},Float64,2,4}:\n",
       " 0.666667     1.11022e-16\n",
       " 2.22045e-16  0.666667   "
      ]
     },
     "execution_count": 8,
     "metadata": {},
     "output_type": "execute_result"
    }
   ],
   "source": [
    "Σ = [0.4  0.3; 0.3 0.45]\n",
    "G = I\n",
    "R = 0.5 * Σ\n",
    "\n",
    "gain(Σ, G, R) = Σ * G' * inv(G * Σ * G' + R)\n",
    "@btime gain($Σ, $G, $R)\n",
    "\n",
    "Σ = @SMatrix([0.4  0.3; 0.3 0.45])\n",
    "G = @SMatrix([1.0  0.0; 0.0 1.0])\n",
    "R = 0.5 * Σ\n",
    "\n",
    "gain(Σ, G, R) = Σ * G' * inv(G * Σ * G' + R)\n",
    "@btime gain($Σ, $G, $R)"
   ]
  },
  {
   "cell_type": "markdown",
   "metadata": {},
   "source": [
    "### Exercise 3\n",
    "\n",
    "The [Polynomial.jl](https://github.com/JuliaMath/Polynomials.jl) provides a package for simple univariate Polynomials.\n",
    "\n",
    "Plot both `p(x)` and `p′(x)` for $ x \\in [-2, 2] $"
   ]
  },
  {
   "cell_type": "code",
   "execution_count": 17,
   "metadata": {},
   "outputs": [
    {
     "name": "stdout",
     "output_type": "stream",
     "text": [
      "p = Poly(2 - 5*x + 2*x^2)\n",
      "(p(0.1), p′(0.1)) = (1.52, -4.6)\n",
      "roots(p) = [2.0, 0.5]\n"
     ]
    },
    {
     "data": {
      "image/png": "[encoded data removed]"
     },
     "execution_count": 17,
     "metadata": {},
     "output_type": "execute_result"
    }
   ],
   "source": [
    "using Polynomials\n",
    "p = Poly([2, -5, 2], :x) # :x just gives a symbol for display\n",
    "@show p\n",
    "p′ = polyder(p)# gives the derivative of p, another polynomial\n",
    "@show p(0.1), p′(0.1) # call like a function\n",
    "@show roots(p); # find roots such that p(x) = 0\n",
    "x = -2:0.01:2\n",
    "y = hcat(polyval(p,x),polyval(p′,x))\n",
    "label1 = [\"p(x)\",\"p'(x)\"]\n",
    "plot(x,y,label = label1)"
   ]
  },
  {
   "cell_type": "markdown",
   "metadata": {},
   "source": [
    "### Exercise 4\n",
    "\n",
    "Using your solution to Exercise 8(a/b) in the [Julia By Example Lecture](julia_by_example) to create a specialized version of Newton’s method for Polynomials, using the `polyder` function\n",
    "\n",
    "The signature of the function should be `newtonsmethod(p::Poly, x_0; tolerance = 1E-7, maxiter = 100)`, where the `p::Poly` ensure that this version of the function will be used anytime a polynomial is passed (i.e. dispatch)\n",
    "\n",
    "Compare the results of this function to the built in `roots(p)`"
   ]
  },
  {
   "cell_type": "code",
   "execution_count": 10,
   "metadata": {},
   "outputs": [
    {
     "name": "stdout",
     "output_type": "stream",
     "text": [
      "newtonsmethod(p, x₀) = 0.5\n",
      "roots(p) = [2.0, 0.5]\n"
     ]
    },
    {
     "data": {
      "text/plain": [
       "2-element Array{Float64,1}:\n",
       " 2.0\n",
       " 0.5"
      ]
     },
     "execution_count": 10,
     "metadata": {},
     "output_type": "execute_result"
    }
   ],
   "source": [
    "function newtonsmethod(p::Poly, x₀; tolerance = 1E-7,maxiter = 100)\n",
    "    x_old = x₀\n",
    "    normdiff = Inf\n",
    "    iter = 1\n",
    "    p_prime = polyder(p)\n",
    "    while normdiff >= tolerance && iter <= maxiter\n",
    "        x_new = x_old - p(x_old) / p_prime(x_old)\n",
    "        normdiff = norm(x_new - x_old)\n",
    "        x_old = x_new\n",
    "        iter += 1\n",
    "    end\n",
    "    return x_old\n",
    "end\n",
    "\n",
    "p = Poly([2, -5, 2], :x)\n",
    "x₀ = 0.0\n",
    "@show newtonsmethod(p,x₀)\n",
    "@show roots(p)"
   ]
  },
  {
   "cell_type": "markdown",
   "metadata": {},
   "source": [
    "Answer:\n",
    "\n",
    "Newton's Method for polynomials can only find one solution. Meanwhile the `roots` is able find both roots."
   ]
  },
  {
   "cell_type": "markdown",
   "metadata": {},
   "source": [
    "### Exercise 5 (Advanced)\n",
    "\n",
    "The [trapezoidal rule](https://en.wikipedia.org/wiki/Trapezoidal_rule)  approximate an integral with\n",
    "\n",
    "$$\n",
    "\\int_\\underline{x}^\\bar{x} f(x) \\, dx \\approx \\sum_{n=1}^N \\frac{f(x_{n-1}) + f(x_n)}{2} \\Delta x_n\n",
    "$$\n",
    "\n",
    "where $ x_0 = \\underline{x},\\, x_N = \\bar{x} $, and $ \\Delta x_n \\equiv x_{n-1} - x_n $\n",
    "\n",
    "Given an `x` and a function `f`, implement a few variations of the trapezoidal rule using multiple-dispatch\n",
    "\n",
    "- `trapezoidal(f, x)` for any `typeof(x) = AbstractArray` and `typeof(f) == AbstractArray` where `length(x) = length(f)`  \n",
    "- `trapezoidal(f, x)` for any `typeof(x) = AbstractRange` and `typeof(f) == AbstractArray` where `length(x) = length(f)`\n",
    "  * exploit the fact that `AbstractRange` have constant step sizes to specialize the algorithm  \n",
    "- `trapezoidal(f, x̲, x̄, N)` where `typeof(f) = Function`, and the other arguments are `Real`\n",
    "  * for this, build a uniform grid with `N` points on `[x̲,x̄]`, call the `f` function at those grid points, and use the existing `trapezoidal(f, x)` from the implementation  \n",
    "\n",
    "\n",
    "With these,\n",
    "1. Test each variation of the function with $ f(x) = x^2 $ with $ \\underline{x}=0,\\, \\bar{x} = 1 $\n",
    "2. From the analytical solution of the function, plot the error of `trapezoidal(f, x̲, x̄, N)` relative to the analytical solution for a grid of different `N` values\n",
    "3. Consider trying different functions for $ f(x) $ and comparing the solutions for various `N`\n",
    "\n",
    "When trying different functions, instead of integrating by hand consider using a high-accuracy library for numerical integration such as [QuadGK.jl](https://juliamath.github.io/QuadGK.jl/latest/)"
   ]
  },
  {
   "cell_type": "code",
   "execution_count": 30,
   "metadata": {},
   "outputs": [
    {
     "name": "stdout",
     "output_type": "stream",
     "text": [
      "trapezoidal(f.(x_1), x_1) = 0.335\n",
      "trapezoidal(f.(x_2), x_2) = 0.335\n",
      "trapezoidal(f, 0.0, 1.0, 11) = 0.335\n"
     ]
    },
    {
     "data": {
      "text/plain": [
       "0.335"
      ]
     },
     "execution_count": 30,
     "metadata": {},
     "output_type": "execute_result"
    }
   ],
   "source": [
    "using QuadGK\n",
    "function trapezoidal(f::AbstractArray, x::AbstractArray)\n",
    "    @assert length(f) == length(x)\n",
    "    y = 0.0\n",
    "    for i in 2:length(x)\n",
    "        y += (f[i-1]+f[i])/2*(x[i]-x[i-1])\n",
    "    end\n",
    "    return y\n",
    "end\n",
    "\n",
    "function trapezoidal(f::AbstractRange, x::AbstractRange)\n",
    "    @assert length(f) == length(x)\n",
    "    y = 0.0\n",
    "    for i in 2:length(x)\n",
    "        y += (f[i-1]+f[i])/2\n",
    "    end\n",
    "    return y*step(x)\n",
    "end\n",
    "\n",
    "function trapezoidal(f::Function, x_lower::Real, x_upper::Real, N::Real)\n",
    "    x = range(x_lower, x_upper, length = N)\n",
    "    y = trapezoidal(f.(x), x)\n",
    "    return y\n",
    "end\n",
    "\n",
    "f(x) = x^2\n",
    "x_1 = [0 0.1 0.2 0.3 0.4 0.5 0.6 0.7 0.8 0.9 1.0]\n",
    "x_2 = range(0.0, 1.0, length = 11)\n",
    "\n",
    "@show trapezoidal(f.(x_1), x_1)\n",
    "@show trapezoidal(f.(x_2), x_2)\n",
    "@show trapezoidal(f, 0.0, 1.0, 11)"
   ]
  },
  {
   "cell_type": "code",
   "execution_count": 47,
   "metadata": {},
   "outputs": [
    {
     "data": {
      "text/plain": [
       "compare (generic function with 1 method)"
      ]
     },
     "execution_count": 47,
     "metadata": {},
     "output_type": "execute_result"
    }
   ],
   "source": [
    "function compare(f::Function, x_lower::Real, x_upper::Real, N::Real)\n",
    "    @assert x_lower <= x_upper\n",
    "    data = zeros(N-1)\n",
    "    value , accuracy = quadgk(f, 0.0, 1.0)\n",
    "    for n in 2:N\n",
    "        data[n-1] = norm(trapezoidal(f, x_lower, x_upper, n) - value)\n",
    "    end\n",
    "    label2 = [\"error\"]\n",
    "    plot(data, label = label2)\n",
    "end"
   ]
  },
  {
   "cell_type": "code",
   "execution_count": 48,
   "metadata": {},
   "outputs": [
    {
     "data": {
      "image/png": "[encoded data removed]"
     },
     "execution_count": 48,
     "metadata": {},
     "output_type": "execute_result"
    }
   ],
   "source": [
    "compare(f, 0.0, 1.0, 100)"
   ]
  },
  {
   "cell_type": "code",
   "execution_count": 53,
   "metadata": {},
   "outputs": [
    {
     "data": {
      "image/png": "[encoded data removed]"
     },
     "execution_count": 53,
     "metadata": {},
     "output_type": "execute_result"
    }
   ],
   "source": [
    "g(x) = x^3\n",
    "compare(g, 0.0, 1.0, 100)"
   ]
  },
  {
   "cell_type": "markdown",
   "metadata": {},
   "source": [
    "### Exercise 6 (Advanced)\n",
    "\n",
    "Take a variation of your code in Exercise 5 which implements the trapezoidal rule for the uniform grid\n",
    "\n",
    "Use auto-differentiation to calculate the following derivative for the example functions\n",
    "\n",
    "$$\n",
    "\\frac{d}{d \\bar{x}}\\int_\\underline{x}^\\bar{x} f(x) \\, dx\n",
    "$$\n",
    "\n",
    "Hint: See the following code for the general pattern, and be careful to follow the [rules for generic programming](_generic_tips_tricks)"
   ]
  },
  {
   "cell_type": "code",
   "execution_count": null,
   "metadata": {},
   "outputs": [],
   "source": []
  },
  {
   "cell_type": "code",
   "execution_count": null,
   "metadata": {},
   "outputs": [],
   "source": []
  }
 ],
 "metadata": {
  "kernelspec": {
   "display_name": "Julia 1.0.1",
   "language": "julia",
   "name": "julia-1.0"
  },
  "language_info": {
   "file_extension": ".jl",
   "mimetype": "application/julia",
   "name": "julia",
   "version": "1.0.1"
  }
 },
 "nbformat": 4,
 "nbformat_minor": 2
}
